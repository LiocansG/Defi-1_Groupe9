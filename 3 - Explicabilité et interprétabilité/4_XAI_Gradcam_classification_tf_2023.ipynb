{
  "cells": [
    {
      "cell_type": "markdown",
      "metadata": {
        "id": "2wpOwqc3Irtl"
      },
      "source": [
        "# **1. Importer les libraries**"
      ]
    },
    {
      "cell_type": "code",
      "execution_count": 1,
      "metadata": {
        "id": "K3GcNuGHIrB-"
      },
      "outputs": [
        {
          "name": "stdout",
          "output_type": "stream",
          "text": [
            "WARNING:tensorflow:From e:\\Python\\Lib\\site-packages\\keras\\src\\losses.py:2976: The name tf.losses.sparse_softmax_cross_entropy is deprecated. Please use tf.compat.v1.losses.sparse_softmax_cross_entropy instead.\n",
            "\n"
          ]
        }
      ],
      "source": [
        "from matplotlib import pyplot as plt\n",
        "import numpy as np\n",
        "import tensorflow as tf\n",
        "from tf_explain.core.grad_cam import GradCAM\n",
        "from keras.models import load_model\n",
        "import os\n",
        "import glob"
      ]
    },
    {
      "cell_type": "markdown",
      "metadata": {},
      "source": [
        "# **2. Définition fonction**"
      ]
    },
    {
      "cell_type": "code",
      "execution_count": 2,
      "metadata": {},
      "outputs": [],
      "source": [
        "def get_images_in_folder(folder_path, extensions=['jpg', 'jpeg', 'png', 'gif']):\n",
        "    # Create a list to store the image file paths\n",
        "    image_files = []\n",
        "\n",
        "    # Use glob to match files with specified extensions\n",
        "    for extension in extensions:\n",
        "        pattern = os.path.join(folder_path, f'*.{extension}')\n",
        "        image_files.extend(glob.glob(pattern))\n",
        "\n",
        "    return image_files"
      ]
    },
    {
      "cell_type": "markdown",
      "metadata": {
        "id": "14lVSNPV368b"
      },
      "source": [
        "# **3. Charger votre modèle**"
      ]
    },
    {
      "cell_type": "code",
      "execution_count": 3,
      "metadata": {
        "id": "-63CipOuKS9Q"
      },
      "outputs": [
        {
          "name": "stdout",
          "output_type": "stream",
          "text": [
            "WARNING:tensorflow:From e:\\Python\\Lib\\site-packages\\keras\\src\\backend.py:1398: The name tf.executing_eagerly_outside_functions is deprecated. Please use tf.compat.v1.executing_eagerly_outside_functions instead.\n",
            "\n",
            "WARNING:tensorflow:From e:\\Python\\Lib\\site-packages\\keras\\src\\layers\\pooling\\max_pooling2d.py:161: The name tf.nn.max_pool is deprecated. Please use tf.nn.max_pool2d instead.\n",
            "\n"
          ]
        }
      ],
      "source": [
        "# Load pretrained model or your own\n",
        "model = load_model(\"../4 - Modele/Groupe9_DB3_VGG16_30_16.h5\")"
      ]
    },
    {
      "cell_type": "markdown",
      "metadata": {
        "id": "UNcZol-8JJxf"
      },
      "source": [
        "# **4. Définir les classes à expliquer**"
      ]
    },
    {
      "cell_type": "code",
      "execution_count": 4,
      "metadata": {
        "id": "AfsCqI69Hwnv"
      },
      "outputs": [],
      "source": [
        "classNames = [\"fire\", \"no_fire\", \"start_fire\"] "
      ]
    },
    {
      "cell_type": "markdown",
      "metadata": {
        "id": "s5popuYkJZcq"
      },
      "source": [
        "# **5. Expliquer le modèle avec la méthode XAI \"GradCAM\"**"
      ]
    },
    {
      "cell_type": "code",
      "execution_count": 5,
      "metadata": {
        "colab": {
          "base_uri": "https://localhost:8080/",
          "height": 1000
        },
        "id": "DLqLYIdPH23s",
        "outputId": "af99973d-254f-44f7-ebfe-9de5bc2daaba"
      },
      "outputs": [],
      "source": [
        "for className in classNames:\n",
        "  input_path = f\"../2 - Traitement temps reel/images/{className}\"\n",
        "  output_path = f\"images/{className}\"\n",
        "  for image_path in get_images_in_folder(input_path):\n",
        "      # Load to the correct format and predict the current image\n",
        "      img0 = tf.keras.preprocessing.image.load_img(image_path, target_size=(model.input_shape[1], model.input_shape[2]))\n",
        "      img = tf.keras.preprocessing.image.img_to_array(img0)\n",
        "\n",
        "      data = ([img], None)\n",
        "      xy=np.expand_dims(img,axis=0)\n",
        "      myTuple=(xy,None)\n",
        "\n",
        "      # Start explainer\n",
        "      explainer = GradCAM()\n",
        "      grid = explainer.explain(myTuple, model, class_index=1)\n",
        "      temp = np.concatenate((img,grid),axis=1)\n",
        "      fig, axs = plt.subplots(1, 2)\n",
        "      axs[0].imshow(img.astype(np.uint8))\n",
        "      axs[0].set_title(\"input\")\n",
        "      axs[1].imshow(grid.astype(np.uint8))\n",
        "      axs[1].set_title(\"XAI\")\n",
        "\n",
        "      fig.set_figheight(15)\n",
        "      fig.set_figwidth(15)\n",
        "        \n",
        "      # Save the figure with a unique filename\n",
        "      output_filename = os.path.join(output_path, f\"{os.path.basename(image_path)}_XAI.png\")\n",
        "      plt.savefig(output_filename)\n",
        "\n",
        "      # Close the figure to avoid memory leaks\n",
        "      plt.close()"
      ]
    }
  ],
  "metadata": {
    "colab": {
      "provenance": []
    },
    "kernelspec": {
      "display_name": "Python 3",
      "name": "python3"
    },
    "language_info": {
      "codemirror_mode": {
        "name": "ipython",
        "version": 3
      },
      "file_extension": ".py",
      "mimetype": "text/x-python",
      "name": "python",
      "nbconvert_exporter": "python",
      "pygments_lexer": "ipython3",
      "version": "3.11.3"
    }
  },
  "nbformat": 4,
  "nbformat_minor": 0
}
